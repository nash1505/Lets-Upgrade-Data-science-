{
 "cells": [
  {
   "cell_type": "markdown",
   "metadata": {},
   "source": [
    "# Question 1\n",
    "# Ans"
   ]
  },
  {
   "cell_type": "code",
   "execution_count": 3,
   "metadata": {},
   "outputs": [],
   "source": [
    "import numpy as np"
   ]
  },
  {
   "cell_type": "code",
   "execution_count": 4,
   "metadata": {},
   "outputs": [
    {
     "data": {
      "text/plain": [
       "array([ 2,  5,  8, 11, 14, 17, 20, 23, 26, 29, 32, 35, 38, 41, 44, 47, 50])"
      ]
     },
     "execution_count": 4,
     "metadata": {},
     "output_type": "execute_result"
    }
   ],
   "source": [
    "np.arange(2,51,3)"
   ]
  },
  {
   "cell_type": "code",
   "execution_count": 6,
   "metadata": {},
   "outputs": [],
   "source": [
    "x = np.arange(2,51,3)"
   ]
  },
  {
   "cell_type": "code",
   "execution_count": 7,
   "metadata": {},
   "outputs": [
    {
     "data": {
      "text/plain": [
       "array([ 2,  5,  8, 11, 14, 17, 20, 23, 26, 29, 32, 35, 38, 41, 44, 47, 50])"
      ]
     },
     "execution_count": 7,
     "metadata": {},
     "output_type": "execute_result"
    }
   ],
   "source": [
    "x"
   ]
  },
  {
   "cell_type": "markdown",
   "metadata": {},
   "source": [
    "# Question 2\n",
    "# Ans"
   ]
  },
  {
   "cell_type": "code",
   "execution_count": 18,
   "metadata": {},
   "outputs": [
    {
     "name": "stdout",
     "output_type": "stream",
     "text": [
      "Enter the element for list 1 1\n",
      "Enter the element for list 1 23\n",
      "Enter the element for list 1 43\n",
      "Enter the element for list 1 45\n",
      "Enter the element for list 1 56\n",
      "Enter the element for list 2 67\n",
      "Enter the element for list 2 54\n",
      "Enter the element for list 2 66\n",
      "Enter the element for list 2 89\n",
      "Enter the element for list 2 78\n",
      "The Concatenated Array is  [ 1. 23. 43. 45. 56. 67. 54. 66. 89. 78.]\n",
      "The Sorted Array is  [ 1. 23. 43. 45. 54. 56. 66. 67. 78. 89.]\n"
     ]
    }
   ],
   "source": [
    "lst1 = []\n",
    "lst2 = []\n",
    "for i in range(5):\n",
    "    x = int(input(\"Enter the element for list 1 \"))\n",
    "    lst1.append(x)\n",
    "    \n",
    "for i in range(5):\n",
    "    y = int(input(\"Enter the element for list 2 \"))\n",
    "    lst1.append(y)\n",
    "A = np.array(lst1)\n",
    "B = np.array(lst2)\n",
    "print(\"The Concatenated Array is \",np.concatenate((A,B),axis = 0 ))\n",
    "print(\"The Sorted Array is \",np.sort(np.concatenate((A,B),axis = 0 )))"
   ]
  },
  {
   "cell_type": "markdown",
   "metadata": {},
   "source": [
    "# Question 3\n",
    "# Ans"
   ]
  },
  {
   "cell_type": "code",
   "execution_count": 42,
   "metadata": {},
   "outputs": [
    {
     "name": "stdout",
     "output_type": "stream",
     "text": [
      "[[ 0  1  2  3  4]\n",
      " [ 5  6  7  8  9]\n",
      " [10 11 12 13 14]]\n",
      "2\n",
      "15\n"
     ]
    }
   ],
   "source": [
    "nl = np.arange(15).reshape((3,5))\n",
    "print(nl)\n",
    "print(np.ndim(nl))\n",
    "print(nl.size)"
   ]
  },
  {
   "cell_type": "markdown",
   "metadata": {},
   "source": [
    "# Question 4\n",
    "# Ans"
   ]
  },
  {
   "cell_type": "raw",
   "metadata": {},
   "source": [
    "We can Convert a 1D Array to 2D Array with the help of expand_dims function where we can pass the array and the axis in the tuple or integer"
   ]
  },
  {
   "cell_type": "code",
   "execution_count": 78,
   "metadata": {},
   "outputs": [
    {
     "data": {
      "text/plain": [
       "array([[[1, 2, 3, 4, 5, 6, 7, 8, 9]]])"
      ]
     },
     "execution_count": 78,
     "metadata": {},
     "output_type": "execute_result"
    }
   ],
   "source": [
    "k = np.array([np.arange(1,10)]) # here np.array creates nd array it stored to variable k\n",
    "y = np.expand_dims(k,axis=1)   #here the expanded dimension of array is stored to y\n",
    "\n",
    "y.shape #here we shows the size of the array looks how it changes if changes the value of x\n",
    "y"
   ]
  },
  {
   "cell_type": "code",
   "execution_count": 77,
   "metadata": {},
   "outputs": [
    {
     "data": {
      "text/plain": [
       "array([[[1],\n",
       "        [2],\n",
       "        [3],\n",
       "        [4],\n",
       "        [5],\n",
       "        [6],\n",
       "        [7],\n",
       "        [8],\n",
       "        [9]]])"
      ]
     },
     "execution_count": 77,
     "metadata": {},
     "output_type": "execute_result"
    }
   ],
   "source": [
    "k = np.array([np.arange(1,10)])\n",
    "y = np.expand_dims(k,axis=2)\n",
    "\n",
    "y.shape\n",
    "y"
   ]
  },
  {
   "cell_type": "markdown",
   "metadata": {},
   "source": [
    "# Question 5\n",
    "# Ans"
   ]
  },
  {
   "cell_type": "code",
   "execution_count": 101,
   "metadata": {},
   "outputs": [
    {
     "name": "stdout",
     "output_type": "stream",
     "text": [
      "The Horizontal Stacked Array\n",
      "[[0 1 4 5]\n",
      " [2 3 6 7]]\n",
      "The Vertical Stacked Array\n",
      "[[0 1]\n",
      " [2 3]\n",
      " [4 5]\n",
      " [6 7]]\n"
     ]
    }
   ],
   "source": [
    "A = np.arange(4).reshape(2,2)\n",
    "B = np.arange(4,8).reshape(2,2)\n",
    "print(\"The Horizontal Stacked Array\")\n",
    "print(np.hstack((A,B)))\n",
    "print(\"The Vertical Stacked Array\")\n",
    "print(np.vstack((A,B)))"
   ]
  },
  {
   "cell_type": "markdown",
   "metadata": {},
   "source": [
    "# Question 6\n",
    "# Ans"
   ]
  },
  {
   "cell_type": "code",
   "execution_count": 119,
   "metadata": {},
   "outputs": [
    {
     "name": "stdout",
     "output_type": "stream",
     "text": [
      "How Many Number you Want to Enter 5\n",
      "Enter the Numbers 11\n",
      "Enter the Numbers 11\n",
      "Enter the Numbers 12\n",
      "Enter the Numbers 133\n",
      "Enter the Numbers 12\n",
      "[ 11  12 133]\n"
     ]
    }
   ],
   "source": [
    "n = int(input(\"How Many Number you Want to Enter \"))\n",
    "lst = []\n",
    "for i in range(n):\n",
    "    x = int(input(\"Enter the Numbers \"))\n",
    "    lst.append(x)\n",
    "unique_list = []\n",
    "nx = np.array(lst)\n",
    "print(np.unique(nx))"
   ]
  },
  {
   "cell_type": "code",
   "execution_count": null,
   "metadata": {},
   "outputs": [],
   "source": []
  }
 ],
 "metadata": {
  "kernelspec": {
   "display_name": "Python 3",
   "language": "python",
   "name": "python3"
  },
  "language_info": {
   "codemirror_mode": {
    "name": "ipython",
    "version": 3
   },
   "file_extension": ".py",
   "mimetype": "text/x-python",
   "name": "python",
   "nbconvert_exporter": "python",
   "pygments_lexer": "ipython3",
   "version": "3.7.3"
  }
 },
 "nbformat": 4,
 "nbformat_minor": 2
}
