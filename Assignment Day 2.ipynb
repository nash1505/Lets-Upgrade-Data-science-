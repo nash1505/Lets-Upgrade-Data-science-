{
 "cells": [
  {
   "cell_type": "markdown",
   "metadata": {},
   "source": [
    "# Question 1\n",
    "# Ans"
   ]
  },
  {
   "cell_type": "code",
   "execution_count": 5,
   "metadata": {},
   "outputs": [
    {
     "name": "stdout",
     "output_type": "stream",
     "text": [
      "Enter the number 1\n",
      "Enter the number 2\n",
      "Enter the number 3\n",
      "Enter the number 4\n",
      "Enter the number 5\n",
      "Enter the number 6\n",
      "Enter the number 7\n",
      "Enter the number 8\n",
      "Enter the number 9\n",
      "Enter the number 11\n",
      "The Even Numbers are  [2, 4, 6, 8]\n"
     ]
    }
   ],
   "source": [
    "lst = []\n",
    "\n",
    "for i in range(10):\n",
    "    x = int(input(\"Enter the number \"))\n",
    "    lst.append(x)\n",
    "\n",
    "elst = []\n",
    "\n",
    "for i in range(10):\n",
    "    if lst[i] % 2 == 0:\n",
    "        elst.append(lst[i])\n",
    "print('The Even Numbers are ',elst)"
   ]
  },
  {
   "cell_type": "markdown",
   "metadata": {},
   "source": [
    "# Question 2\n",
    "# Ans"
   ]
  },
  {
   "cell_type": "code",
   "execution_count": 19,
   "metadata": {},
   "outputs": [
    {
     "name": "stdout",
     "output_type": "stream",
     "text": [
      "[2, 3, 4, 5, 6, 7, 8, 9, 0, 1, 2, 12, 13, 14, 14, 15, 15]\n",
      "[1, 2, 3, 4, 5]\n",
      "[2, 3, 4, 5, 6, 7, 8, 9, 0, 1, 2, 12, 13, 14, 14, 15]\n",
      "[2, 3, 4, 5, 6, 7, 8]\n",
      "[1, 3, 5, 7, 9, 1, 13, 15, 15]\n"
     ]
    }
   ],
   "source": [
    "# List comprehension\n",
    "A = [1,2,3,4,5,6,7,8,9,0,1,2,12,13,14,14,15,15]\n",
    "print(A[1:])\n",
    "print(A[:5])\n",
    "print(A[1:-1])\n",
    "print(A[1:8])\n",
    "ost = []\n",
    "for i in range(len(A)):\n",
    "    if A[i] % 2 != 0:\n",
    "        ost.append(A[i])\n",
    "print(ost)"
   ]
  },
  {
   "cell_type": "markdown",
   "metadata": {},
   "source": [
    "# Question 3\n",
    "# Ans"
   ]
  },
  {
   "cell_type": "code",
   "execution_count": 12,
   "metadata": {},
   "outputs": [
    {
     "name": "stdout",
     "output_type": "stream",
     "text": [
      "Enter the Number 4\n",
      "{1: 1, 2: 4, 3: 9, 4: 16}\n"
     ]
    }
   ],
   "source": [
    "d = {}\n",
    "n = int(input(\"Enter the Number \"))\n",
    "for i in range(1,n+1):\n",
    "    d[i] = i*i\n",
    "print(d)"
   ]
  },
  {
   "cell_type": "markdown",
   "metadata": {},
   "source": [
    "# Question 4\n",
    "# Ans"
   ]
  },
  {
   "cell_type": "code",
   "execution_count": 17,
   "metadata": {},
   "outputs": [
    {
     "name": "stdout",
     "output_type": "stream",
     "text": [
      "4\n",
      "UP 5\n",
      "DOWN 3\n",
      "LEFT 3\n",
      "RIGHT 2\n",
      "2\n"
     ]
    }
   ],
   "source": [
    "pos = {'x':0,'y':0}\n",
    "\n",
    "\n",
    "n = int(input())\n",
    "    \n",
    "for i in range (n):\n",
    "    move =  input().split(\" \")      \n",
    "    \n",
    "if move[0].lower() == \"up\":     \n",
    "    pos[\"y\"] += int(move[1])    \n",
    "    \n",
    "elif move[0].lower() == \"down\":\n",
    "    pos[\"y\"] -= int(move[1])\n",
    "    \n",
    "elif move[0].lower() == \"left\":\n",
    "    pos[\"x\"] -= int(move[1])\n",
    "    \n",
    "elif move[0].lower() == \"right\":\n",
    "    pos[\"x\"] += int(move[1])\n",
    "print(int(round((pos[\"x\"]**2 + pos[\"y\"]**2)**0.5)))"
   ]
  },
  {
   "cell_type": "code",
   "execution_count": null,
   "metadata": {},
   "outputs": [],
   "source": []
  }
 ],
 "metadata": {
  "kernelspec": {
   "display_name": "Python 3",
   "language": "python",
   "name": "python3"
  },
  "language_info": {
   "codemirror_mode": {
    "name": "ipython",
    "version": 3
   },
   "file_extension": ".py",
   "mimetype": "text/x-python",
   "name": "python",
   "nbconvert_exporter": "python",
   "pygments_lexer": "ipython3",
   "version": "3.8.3"
  }
 },
 "nbformat": 4,
 "nbformat_minor": 4
}
